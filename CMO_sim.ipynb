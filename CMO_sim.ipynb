{
  "nbformat": 4,
  "nbformat_minor": 0,
  "metadata": {
    "kernelspec": {
      "display_name": "Python 3",
      "language": "python",
      "name": "python3"
    },
    "language_info": {
      "codemirror_mode": {
        "name": "ipython",
        "version": 3
      },
      "file_extension": ".py",
      "mimetype": "text/x-python",
      "name": "python",
      "nbconvert_exporter": "python",
      "pygments_lexer": "ipython3",
      "version": "3.7.3"
    },
    "colab": {
      "name": "CMO_sim.ipynb",
      "provenance": [],
      "include_colab_link": true
    }
  },
  "cells": [
    {
      "cell_type": "markdown",
      "metadata": {
        "id": "view-in-github",
        "colab_type": "text"
      },
      "source": [
        "<a href=\"https://colab.research.google.com/github/leex5089/childcareaccess/blob/master/CMO_sim.ipynb\" target=\"_parent\"><img src=\"https://colab.research.google.com/assets/colab-badge.svg\" alt=\"Open In Colab\"/></a>"
      ]
    },
    {
      "cell_type": "markdown",
      "metadata": {
        "id": "gFM01H3RAIl_"
      },
      "source": [
        "Created by WL 12/1/2021: The purpose of this memo is to understand the issue related to the subgroup analysis conducted in 2017 CMO study, and discuss potential solution to the problem."
      ]
    },
    {
      "cell_type": "code",
      "metadata": {
        "id": "8sLmMBKJAImK"
      },
      "source": [
        "#import Stata Module\n",
        "import stata_setup \n",
        "# Stata path directory\n",
        "stata_setup.config(\"C:/Program Files/Stata17\", \"mp\") "
      ],
      "execution_count": null,
      "outputs": []
    },
    {
      "cell_type": "markdown",
      "metadata": {
        "id": "BTHErgyfAImN"
      },
      "source": [
        "<h1>Creating Simulated Data for Illustration</h1>"
      ]
    },
    {
      "cell_type": "markdown",
      "metadata": {
        "id": "AR2XiDikAImP"
      },
      "source": [
        "In order to understand the issue and possible solutions to the models used in the 2017 CMO subgroup analysis, below block of code creates simulated data. For simplicity, only School type (1.TPS 2. CMO 3. NonCMO) and lunch (0. no lunch 1. lunch) variables are included for the illustration."
      ]
    },
    {
      "cell_type": "code",
      "metadata": {
        "id": "EsyIMeujAImQ",
        "outputId": "ef5118cd-cf9f-4f51-a4c2-8c49fa69d304"
      },
      "source": [
        "%%stata\n",
        "clear\n",
        "# set number of observations of simulated data to have N=100,000\n",
        "set obs 100000 \n",
        "# designate seed number to fixate simulated results\n",
        "set seed 346787 \n",
        "\n",
        "#create error term variable that has normal distribution with mean 0 SD -1\n",
        "gen u = rnormal()\n",
        "#create temp variable that has normal distribution with mean 0 SD -1\n",
        "gen temp = rnormal()  \n",
        "#create lunch binary variable that indicates lunch or no lunch.\n",
        "xtile lunch = temp, nq(2)\n",
        "drop temp\n",
        "\n",
        "\n",
        "#recode lunch variable\n",
        "\n",
        "tab lunch,gen(lunch_)\n",
        "\n",
        "rename lunch_1 lunch_no\n",
        "rename lunch_2  lunch_yes\n",
        "\n",
        "replace lunch=0 if lunch==1\n",
        "replace lunch=1 if lunch==2\n",
        "\n",
        "\n",
        "#check lunch variable 0 if no lunch 1 if lunch\n",
        "tab lunch\n",
        "\n",
        "\n",
        "#create temp variable that has normal distribution with mean 0 SD -1\n",
        "gen temp = rnormal()\n",
        "#create stype categorical variable that indicates 1.TPS 2.CMO 3.NonCMO.\n",
        "xtile stype = temp, nq(3)\n",
        "drop temp\n",
        "\n",
        "\n",
        "#recode lunch variable\n",
        "\n",
        "tab stype,gen(stype_)\n",
        " \n",
        "rename stype_1 tps \n",
        "rename stype_2 cmo\n",
        "rename stype_3 noncmo\n",
        " \n",
        "#check stype variable\n",
        "tab stype\n"
      ],
      "execution_count": null,
      "outputs": [
        {
          "name": "stdout",
          "output_type": "stream",
          "text": [
            "\n",
            ". clear\n",
            "\n",
            ". # set number of observations of simulated data to have N=100,000\n",
            "Unknown #command\n",
            ". set obs 100000 \n",
            "Number of observations (_N) was 0, now 100,000.\n",
            "\n",
            ". # designate seed number to fixate simulated results\n",
            "Unknown #command\n",
            ". set seed 346787 \n",
            "\n",
            ". \n",
            ". #create error term variable that has normal distribution with mean 0 SD -1\n",
            "Unknown #command\n",
            ". gen u = rnormal()\n",
            "\n",
            ". #create temp variable that has normal distribution with mean 0 SD -1\n",
            "Unknown #command\n",
            ". gen temp = rnormal()  \n",
            "\n",
            ". #create lunch binary variable that indicates lunch or no lunch.\n",
            "Unknown #command\n",
            ". xtile lunch = temp, nq(2)\n",
            "\n",
            ". drop temp\n",
            "\n",
            ". \n",
            ". \n",
            ". #recode lunch variable\n",
            "Unknown #command\n",
            ". \n",
            ". tab lunch,gen(lunch_)\n",
            "\n",
            "2 quantiles |\n",
            "    of temp |      Freq.     Percent        Cum.\n",
            "------------+-----------------------------------\n",
            "          1 |     50,000       50.00       50.00\n",
            "          2 |     50,000       50.00      100.00\n",
            "------------+-----------------------------------\n",
            "      Total |    100,000      100.00\n",
            "\n",
            ". \n",
            ". rename lunch_1 lunch_no\n",
            "\n",
            ". rename lunch_2  lunch_yes\n",
            "\n",
            ". \n",
            ". replace lunch=0 if lunch==1\n",
            "(50,000 real changes made)\n",
            "\n",
            ". replace lunch=1 if lunch==2\n",
            "(50,000 real changes made)\n",
            "\n",
            ". \n",
            ". \n",
            ". #check lunch variable 0 if no lunch 1 if lunch\n",
            "Unknown #command\n",
            ". tab lunch\n",
            "\n",
            "2 quantiles |\n",
            "    of temp |      Freq.     Percent        Cum.\n",
            "------------+-----------------------------------\n",
            "          0 |     50,000       50.00       50.00\n",
            "          1 |     50,000       50.00      100.00\n",
            "------------+-----------------------------------\n",
            "      Total |    100,000      100.00\n",
            "\n",
            ". \n",
            ". \n",
            ". #create temp variable that has normal distribution with mean 0 SD -1\n",
            "Unknown #command\n",
            ". gen temp = rnormal()\n",
            "\n",
            ". #create stype categorical variable that indicates 1.TPS 2.CMO 3.NonCMO.\n",
            "Unknown #command\n",
            ". xtile stype = temp, nq(3)\n",
            "\n",
            ". drop temp\n",
            "\n",
            ". \n",
            ". \n",
            ". #recode lunch variable\n",
            "Unknown #command\n",
            ". \n",
            ". tab stype,gen(stype_)\n",
            "\n",
            "3 quantiles |\n",
            "    of temp |      Freq.     Percent        Cum.\n",
            "------------+-----------------------------------\n",
            "          1 |     33,334       33.33       33.33\n",
            "          2 |     33,333       33.33       66.67\n",
            "          3 |     33,333       33.33      100.00\n",
            "------------+-----------------------------------\n",
            "      Total |    100,000      100.00\n",
            "\n",
            ".  \n",
            ". rename stype_1 tps \n",
            "\n",
            ". rename stype_2 cmo\n",
            "\n",
            ". rename stype_3 noncmo\n",
            "\n",
            ".  \n",
            ". #check stype variable\n",
            "Unknown #command\n",
            ". tab stype\n",
            "\n",
            "3 quantiles |\n",
            "    of temp |      Freq.     Percent        Cum.\n",
            "------------+-----------------------------------\n",
            "          1 |     33,334       33.33       33.33\n",
            "          2 |     33,333       33.33       66.67\n",
            "          3 |     33,333       33.33      100.00\n",
            "------------+-----------------------------------\n",
            "      Total |    100,000      100.00\n",
            "\n",
            ". \n"
          ]
        }
      ]
    },
    {
      "cell_type": "markdown",
      "metadata": {
        "id": "YU6JugZJAImU"
      },
      "source": [
        "<h1>Data Generating Process</h1>\n"
      ]
    },
    {
      "cell_type": "markdown",
      "metadata": {
        "id": "55FALAadAImW"
      },
      "source": [
        "Now we have random variables generated in the above step, we generate outcome variable that has following data generating process (EQ1). There are three parts to this model, 1. Main effect of lunch, 2. Main effect of School Type, 3.Interaction effects between school type and lunch status:\n",
        "\n",
        "$y = \\overbrace{1}^{\\text{Constant}}+\\overbrace{ 3 \\times lunch\\_no+2 \\times lunch\\_yes}^{\\text{Main Effects for Lunch}}+\\overbrace{ 3 \\times tps +4 \\times cmo+7 \\times noncmo}^{\\text{Main Effects for School Type}}+\\overbrace{ 5 \\times lunch\\_yes \\times cmo -5 \\times lunch\\_yes \\times noncmo }^{\\text{Interaction Effects}}+ \\overbrace{u}^{\\text{Error term}}  $\n",
        "\n"
      ]
    },
    {
      "cell_type": "code",
      "metadata": {
        "scrolled": true,
        "id": "VNk1U2S-AImY",
        "outputId": "dcaa5837-f744-4fb0-a24e-056dbaa6ba63"
      },
      "source": [
        "%%stata\n",
        "\n",
        "#create a hypotetical model (Data Generating Process using EQ1)\n",
        "#The model has both main effects and interaction effects as described above.\n",
        " \n",
        "gen y = 1+3*lunch_no+2*lunch_yes+3*tps +4*cmo+7*noncmo+ 5*lunch_yes*cmo -5*lunch_yes*noncmo + u "
      ],
      "execution_count": null,
      "outputs": [
        {
          "name": "stdout",
          "output_type": "stream",
          "text": [
            "\n",
            ". \n",
            ". #create a hypotetical model (Data Generating Process using EQ1)\n",
            "Unknown #command\n",
            ". #The model has both main effects and interaction effects as described above.\n",
            "Unknown #command\n",
            ".  \n",
            ". gen y = 1+3*lunch_no+2*lunch_yes+3*tps +4*cmo+7*noncmo+ 5*lunch_yes*cmo -5*lu\n",
            "> nch_yes*noncmo + u \n",
            "\n",
            ". \n"
          ]
        }
      ]
    },
    {
      "cell_type": "markdown",
      "metadata": {
        "id": "Iz9kXQKmAImb"
      },
      "source": [
        "<h1>Estimation using regression models</h1>\n"
      ]
    },
    {
      "cell_type": "markdown",
      "metadata": {
        "id": "qtSR0kFtAIme"
      },
      "source": [
        "<h4>1. Estimation model 1 (M1): Main effects only model  </h4>"
      ]
    },
    {
      "cell_type": "code",
      "metadata": {
        "scrolled": true,
        "id": "QcyudrwVAImg",
        "outputId": "401301f1-e5bd-4e89-d510-40ee33f3abfa"
      },
      "source": [
        "%%stata\n",
        "#Running regression on the simulated data\n",
        "#Estimation model 1: Main effects model only \n",
        "\n",
        "reg y i.lunch i.stype,baselevels"
      ],
      "execution_count": null,
      "outputs": [
        {
          "name": "stdout",
          "output_type": "stream",
          "text": [
            "\n",
            ". #Running regression on the simulated data\n",
            "Unknown #command\n",
            ". #Estimation model 1: Main effects model only \n",
            "Unknown #command\n",
            ". \n",
            ". reg y i.lunch i.stype,baselevels\n",
            "\n",
            "      Source |       SS           df       MS      Number of obs   =   100,000\n",
            "-------------+----------------------------------   F(3, 99996)     =  15009.08\n",
            "       Model |  231742.367         3  77247.4558   Prob > F        =    0.0000\n",
            "    Residual |  514651.041    99,996  5.14671628   R-squared       =    0.3105\n",
            "-------------+----------------------------------   Adj R-squared   =    0.3105\n",
            "       Total |  746393.408    99,999  7.46400872   Root MSE        =    2.2686\n",
            "\n",
            "------------------------------------------------------------------------------\n",
            "           y | Coefficient  Std. err.      t    P>|t|     [95% conf. interval]\n",
            "-------------+----------------------------------------------------------------\n",
            "       lunch |\n",
            "          0  |          0  (base)\n",
            "          1  |  -1.010559   .0143483   -70.43   0.000    -1.038681   -.9824365\n",
            "             |\n",
            "       stype |\n",
            "          1  |          0  (base)\n",
            "          2  |   3.505021   .0175728   199.46   0.000     3.470578    3.539463\n",
            "          3  |   1.489653   .0175729    84.77   0.000      1.45521    1.524096\n",
            "             |\n",
            "       _cons |   6.996378   .0143328   488.14   0.000     6.968286    7.024471\n",
            "------------------------------------------------------------------------------\n",
            "\n",
            ". \n"
          ]
        }
      ]
    },
    {
      "cell_type": "markdown",
      "metadata": {
        "id": "LcWWQNuhAImh"
      },
      "source": [
        "Based on the estimation result above, we have estimates on following parameters:\n",
        "<p><li>constant</li></p><ul>  =7  ($=  \\overbrace{3 \\times lunch\\_no+ 3 \\times tps}^{\\text{Reference group}}+\\overbrace{1}^{\\text{Constant}})  $</ul>\n",
        "\n",
        "<p><li>lunch</li></p><ul>=-1 ($=2 \\times lunch\\_yes- 3 \\times lunch\\_no) $</ul>\n",
        "\n",
        "\n",
        "<p><li>stype.2(CMO)</li></p><ul> =3.5 ($=(4 \\times cmo- 3 \\times tps)+(\\overbrace{\\frac{1}{2} \\times 5 \\times lunch\\_yes \\times cmo}^{\\text{Half of CMO students receives lunch}})) $ </ul> \n",
        " \n",
        "\n",
        "<p><li>stype.3(NonCMO)</li></p><ul> =1.5 ($=(7 \\times noncmo- 3 \\times tps)-(\\overbrace{\\frac{1}{2} \\times 5 \\times lunch\\_yes \\times noncmo}^{\\text{Half of NonCMO students receives lunch}})) $ </ul> \n",
        "\n",
        "As a reminder, EQ1 (true simulated model) is:\n",
        "\n",
        "$y = \\overbrace{1}^{\\text{Constant}}+\\overbrace{ 3 \\times lunch\\_no+2 \\times lunch\\_yes}^{\\text{Main Effects for Lunch}}+\\overbrace{ 3 \\times tps +4 \\times cmo+7 \\times noncmo}^{\\text{Main Effects for School Type}}+\\overbrace{ 5 \\times lunch\\_yes \\times cmo -5 \\times lunch\\_yes \\times noncmo }^{\\text{Interaction Effects}}+ \\overbrace{u}^{\\text{Error term}}  $"
      ]
    },
    {
      "cell_type": "markdown",
      "metadata": {
        "id": "RjweZkp3AImj"
      },
      "source": [
        " <h4>2. Estimation model 2 (M2): Interaction effects only model  </h4>"
      ]
    },
    {
      "cell_type": "code",
      "metadata": {
        "id": "5aQYkFl6AIml",
        "outputId": "0d149a12-f42e-4c48-e406-ab6b6894bf6a"
      },
      "source": [
        "%%stata\n",
        "#Estimation model 2: Interaction effects model only \n",
        "\n",
        "reg y i.lunch#i.stype ,baselevels\n"
      ],
      "execution_count": null,
      "outputs": [
        {
          "name": "stdout",
          "output_type": "stream",
          "text": [
            "\n",
            ". #Estimation model 2: Interaction effects model only \n",
            "Unknown #command\n",
            ". \n",
            ". reg y i.lunch#i.stype ,baselevels\n",
            "\n",
            "      Source |       SS           df       MS      Number of obs   =   100,000\n",
            "-------------+----------------------------------   F(5, 99994)     >  99999.00\n",
            "       Model |  647102.231         5  129420.446   Prob > F        =    0.0000\n",
            "    Residual |  99291.1767    99,994  .992971346   R-squared       =    0.8670\n",
            "-------------+----------------------------------   Adj R-squared   =    0.8670\n",
            "       Total |  746393.408    99,999  7.46400872   Root MSE        =    .99648\n",
            "\n",
            "------------------------------------------------------------------------------\n",
            "           y | Coefficient  Std. err.      t    P>|t|     [95% conf. interval]\n",
            "-------------+----------------------------------------------------------------\n",
            " lunch#stype |\n",
            "        0 1  |          0  (base)\n",
            "        0 2  |   1.020405   .0108988    93.63   0.000     .9990434    1.041766\n",
            "        0 3  |   4.007916   .0109215   366.97   0.000      3.98651    4.029322\n",
            "        1 1  |  -1.001947   .0109159   -91.79   0.000    -1.023342   -.9805518\n",
            "        1 2  |   4.997678   .0109098   458.09   0.000     4.976295    5.019061\n",
            "        1 3  |  -1.999264   .0108872  -183.63   0.000    -2.020603   -1.977925\n",
            "             |\n",
            "       _cons |   6.992091   .0077022   907.80   0.000     6.976994    7.007187\n",
            "------------------------------------------------------------------------------\n",
            "\n",
            ". \n"
          ]
        }
      ]
    },
    {
      "cell_type": "markdown",
      "metadata": {
        "id": "yvV9XxkFAImm"
      },
      "source": [
        "Based on the estimation result above, we have estimates on following parameters:\n",
        "<p><li>Constant</li></p><ul>  =7  ($=  \\overbrace{3 \\times lunch\\_no+ 3 \\times tps}^{\\text{Reference group}}+\\overbrace{1}^{\\text{Constant}})  $</ul>\n",
        "\n",
        "<p><li>$lunch\\_no \\times cmo$</li></p><ul>=1 ($=4 \\times cmo- 3 \\times tps) $</ul>\n",
        "<p><li>$lunch\\_no \\times noncmo$</li></p><ul>=4 ($=7 \\times noncmo- 3 \\times tps) $</ul>\n",
        "<p><li>$lunch\\_yes \\times tps$</li></p><ul>=-1 ($=2 \\times lunch\\_yes- 3 \\times lunch\\_no) $</ul>\n",
        "<p><li>$lunch\\_yes \\times cmo$</li></p><ul>=5 ($=(2 \\times lunch\\_yes- 3 \\times lunch\\_no)+(4 \\times cmo- 3 \\times tps)+(5 \\times lunch\\_yes \\times cmo)) $</ul>\n",
        "<p><li>$lunch\\_yes \\times noncmo$</li></p><ul>=-2 ($=(2 \\times lunch\\_yes- 3 \\times lunch\\_no)+(7 \\times noncmo- 3 \\times tps)-(5 \\times lunch\\_yes \\times noncmo)) $</ul>\n",
        "\n",
        " \n",
        "\n",
        "As a reminder, EQ1 (true simulated model) is:\n",
        "\n",
        "$y = \\overbrace{1}^{\\text{Constant}}+\\overbrace{ 3 \\times lunch\\_no+2 \\times lunch\\_yes}^{\\text{Main Effects for Lunch}}+\\overbrace{ 3 \\times tps +4 \\times cmo+7 \\times noncmo}^{\\text{Main Effects for School Type}}+\\overbrace{ 5 \\times lunch\\_yes \\times cmo -5 \\times lunch\\_yes \\times noncmo }^{\\text{Interaction Effects}}+ \\overbrace{u}^{\\text{Error term}}  $"
      ]
    },
    {
      "cell_type": "markdown",
      "metadata": {
        "id": "O_FwcHCZAImm"
      },
      "source": [
        " <h4>3. Estimation model 3 (M3): Full model (both main and interaction effects) </h4>"
      ]
    },
    {
      "cell_type": "code",
      "metadata": {
        "id": "7ShDDWtuAImo",
        "outputId": "0cb2572a-7839-47dc-df90-9fe405892fef"
      },
      "source": [
        "%%stata\n",
        "#Estimation model 3: Full model (both main and interaction effects)\n",
        "\n",
        "\n",
        "reg y i.lunch##i.stype,baselevels\n"
      ],
      "execution_count": null,
      "outputs": [
        {
          "name": "stdout",
          "output_type": "stream",
          "text": [
            "\n",
            ". #Estimation model 3: Full model (both main and interaction effects)\n",
            "Unknown #command\n",
            ". \n",
            ". \n",
            ". reg y i.lunch##i.stype,baselevels\n",
            "\n",
            "      Source |       SS           df       MS      Number of obs   =   100,000\n",
            "-------------+----------------------------------   F(5, 99994)     >  99999.00\n",
            "       Model |  647102.231         5  129420.446   Prob > F        =    0.0000\n",
            "    Residual |  99291.1767    99,994  .992971346   R-squared       =    0.8670\n",
            "-------------+----------------------------------   Adj R-squared   =    0.8670\n",
            "       Total |  746393.408    99,999  7.46400872   Root MSE        =    .99648\n",
            "\n",
            "------------------------------------------------------------------------------\n",
            "           y | Coefficient  Std. err.      t    P>|t|     [95% conf. interval]\n",
            "-------------+----------------------------------------------------------------\n",
            "       lunch |\n",
            "          0  |          0  (base)\n",
            "          1  |  -1.001947   .0109159   -91.79   0.000    -1.023342   -.9805518\n",
            "             |\n",
            "       stype |\n",
            "          1  |          0  (base)\n",
            "          2  |   1.020405   .0108988    93.63   0.000     .9990434    1.041766\n",
            "          3  |   4.007916   .0109215   366.97   0.000      3.98651    4.029322\n",
            "             |\n",
            " lunch#stype |\n",
            "        1 2  |    4.97922   .0154374   322.54   0.000     4.948963    5.009477\n",
            "        1 3  |  -5.005233   .0154376  -324.22   0.000     -5.03549   -4.974975\n",
            "             |\n",
            "       _cons |   6.992091   .0077022   907.80   0.000     6.976994    7.007187\n",
            "------------------------------------------------------------------------------\n",
            "\n",
            ". \n"
          ]
        }
      ]
    },
    {
      "cell_type": "markdown",
      "metadata": {
        "id": "4Qx7QVQvAImp"
      },
      "source": [
        "Based on the estimation result above, we have estimates on following parameters:\n",
        "<p><li>Constant</li></p><ul>  =7  ($=  \\overbrace{3 \\times lunch\\_no+ 3 \\times tps}^{\\text{Reference group}}+\\overbrace{1}^{\\text{Constant}})  $</ul>\n",
        "\n",
        "<p><li>lunch</li></p><ul>=-1 ($=2 \\times lunch\\_yes- 3 \\times lunch\\_no) $</ul>\n",
        "\n",
        "\n",
        "<p><li>stype.2(CMO)</li></p><ul> =1 ($=4 \\times cmo- 3 \\times tps) $ </ul> \n",
        " \n",
        "\n",
        "<p><li>stype.3(NonCMO)</li></p><ul> =4 ($=7 \\times noncmo- 3 \\times tps) $ </ul> \n",
        "\n",
        "<p><li>$lunch\\_yes \\times cmo$</li></p><ul>=5 ($= 5 \\times lunch\\_yes \\times cmo) $</ul>\n",
        "<p><li>$lunch\\_yes \\times noncmo$</li></p><ul>=-5 ($= -5 \\times lunch\\_yes \\times cmo) $</ul>\n",
        " \n",
        "\n",
        "As a reminder, EQ1 (true simulated model) is:\n",
        "\n",
        "$y = \\overbrace{1}^{\\text{Constant}}+\\overbrace{ 3 \\times lunch\\_no+2 \\times lunch\\_yes}^{\\text{Main Effects for Lunch}}+\\overbrace{ 3 \\times tps +4 \\times cmo+7 \\times noncmo}^{\\text{Main Effects for School Type}}+\\overbrace{ 5 \\times lunch\\_yes \\times cmo -5 \\times lunch\\_yes \\times noncmo }^{\\text{Interaction Effects}}+ \\overbrace{u}^{\\text{Error term}}  $"
      ]
    },
    {
      "cell_type": "markdown",
      "metadata": {
        "id": "GFk_V8poAImp"
      },
      "source": [
        "<h1>Discussing the issues in the previous subgroup analysis</h1>\n"
      ]
    },
    {
      "cell_type": "markdown",
      "metadata": {
        "id": "rbJmKbbzAImq"
      },
      "source": [
        "1.Based on the simulated data and estimation results, we can infer that addition of the coefficient on CMO in the main effect only model (M1) to the coefficient on lunch in the interaction only model (M2) tend to bias the true effect of the $lunch \\times cmo$ on $Y$ (i.e., $5+3.5 > 5$)\n",
        "\n",
        "\n",
        "2.Based on the simulated data and estimation results, we can infer that addition of the coefficient on NonCMO in the main effect only model (M1) to the coefficient on lunch in the interaction only model (M2) tend to bias the true effect of the $lunch \\times noncmo$ on $Y$ (i.e., $-2+1.5 >-5$)\n",
        "\n",
        "Note: The same addition of coefficients from (M1) and (M2) was conducted for ELL and SPED in the 2017 CMO analysis, but not for race/ethnicity breakout. \n"
      ]
    },
    {
      "cell_type": "markdown",
      "metadata": {
        "id": "h1bPSahKAImr"
      },
      "source": [
        "<h1>Potional solution to the problem</h1>\n"
      ]
    },
    {
      "cell_type": "markdown",
      "metadata": {
        "id": "4OeqkSVWAImr"
      },
      "source": [
        "1. The use of full model (M3) that includes both main and interaction effects in the model recovers the unbiased estimated results for both coefficients of the interaction terms ($\\overbrace{ 5 \\times lunch\\_yes \\times cmo -5 \\times lunch\\_yes \\times noncmo }^{\\text{Interaction Effects}}$). The interpretation would be that \"The CMO lunch students show 5 units higher of outcome variable than the no-lunch CMO students, controlling for other factors included in the model\".  \n",
        "\n",
        "\n",
        "\n",
        "\n",
        "2. The use of interaction only model (Model 2) can also recovers the unbiased estimated results, but it aggregates the main effects of school type and lunch to the interaction effects between school type and lunch. One thing to keep in mind when choosing the interaction only model is that as the number of variables increases, the number of interaction terms increase exponentially (eg., when there is 5 binary variables, we need $2^{5}$=32 terms in the model). For example, a Data generating process with 5 binary variables is assumed below. The results shows that the coefficients and interpretation should in reference to the base group defined at v1=1, v2=1, v3=1, v4=1, v5=1.\n",
        "\n",
        "\n"
      ]
    },
    {
      "cell_type": "code",
      "metadata": {
        "id": "24uUTMR6AImr",
        "outputId": "257aff44-8452-41c0-b02b-4c180862c30c"
      },
      "source": [
        "%%stata\n",
        "\n",
        " \n",
        " ***\n",
        " \n",
        " clear \n",
        "\n",
        "set obs 100000\n",
        "set seed 346787\n",
        "gen u = rnormal()\n",
        "gen temp = rnormal()\n",
        "\n",
        "xtile v1 = temp, nq(2)\n",
        "drop temp\n",
        "gen temp = rnormal()\n",
        "xtile v2 = temp, nq(2)\n",
        "drop temp\n",
        "gen temp = rnormal()\n",
        "xtile v3 = temp, nq(2)\n",
        "drop temp\n",
        "gen temp = rnormal()\n",
        "xtile v4 = temp, nq(2)\n",
        "drop temp\n",
        "gen temp = rnormal()\n",
        "xtile v5 = temp, nq(2)\n",
        "drop temp\n",
        " \n",
        " \n",
        " \n",
        "gen y = 1+3*v1+2*v2+3*v3 +4*v4+7*v5+ u \n",
        "\n",
        " \n",
        "reg y i.v1#i.v2#i.v3#i.v4#i.v5,baselevels\n",
        " "
      ],
      "execution_count": null,
      "outputs": [
        {
          "name": "stdout",
          "output_type": "stream",
          "text": [
            "\n",
            ". \n",
            ".  \n",
            ".  ***\n",
            ".  \n",
            ".  clear \n",
            "\n",
            ". \n",
            ". set obs 100000\n",
            "Number of observations (_N) was 0, now 100,000.\n",
            "\n",
            ". set seed 346787\n",
            "\n",
            ". gen u = rnormal()\n",
            "\n",
            ". gen temp = rnormal()\n",
            "\n",
            ". \n",
            ". xtile v1 = temp, nq(2)\n",
            "\n",
            ". drop temp\n",
            "\n",
            ". gen temp = rnormal()\n",
            "\n",
            ". xtile v2 = temp, nq(2)\n",
            "\n",
            ". drop temp\n",
            "\n",
            ". gen temp = rnormal()\n",
            "\n",
            ". xtile v3 = temp, nq(2)\n",
            "\n",
            ". drop temp\n",
            "\n",
            ". gen temp = rnormal()\n",
            "\n",
            ". xtile v4 = temp, nq(2)\n",
            "\n",
            ". drop temp\n",
            "\n",
            ". gen temp = rnormal()\n",
            "\n",
            ". xtile v5 = temp, nq(2)\n",
            "\n",
            ". drop temp\n",
            "\n",
            ".  \n",
            ".  \n",
            ".  \n",
            ". gen y = 1+3*v1+2*v2+3*v3 +4*v4+7*v5+ u \n",
            "\n",
            ". \n",
            ".  \n",
            ". reg y i.v1#i.v2#i.v3#i.v4#i.v5,baselevels\n",
            "\n",
            "      Source |       SS           df       MS      Number of obs   =   100,000\n",
            "-------------+----------------------------------   F(31, 99968)    =  70862.64\n",
            "       Model |  2181380.58        31  70367.1155   Prob > F        =    0.0000\n",
            "    Residual |  99268.9514    99,968  .993007276   R-squared       =    0.9565\n",
            "-------------+----------------------------------   Adj R-squared   =    0.9565\n",
            "       Total |  2280649.53    99,999  22.8067234   Root MSE        =     .9965\n",
            "\n",
            "------------------------------------------------------------------------------\n",
            "           y | Coefficient  Std. err.      t    P>|t|     [95% conf. interval]\n",
            "-------------+----------------------------------------------------------------\n",
            " v1#v2#v3#v4#|\n",
            "          v5 |\n",
            "  1 1 1 1 1  |          0  (base)\n",
            "  1 1 1 1 2  |   7.014213   .0253645   276.54   0.000     6.964499    7.063927\n",
            "  1 1 1 2 1  |   4.003831   .0254327   157.43   0.000     3.953984    4.053679\n",
            "  1 1 1 2 2  |   11.02075   .0250187   440.50   0.000     10.97171    11.06978\n",
            "  1 1 2 1 1  |   2.994205   .0251855   118.89   0.000     2.944841    3.043568\n",
            "  1 1 2 1 2  |   9.976159   .0251415   396.80   0.000     9.926882    10.02544\n",
            "  1 1 2 2 1  |   6.982672   .0249939   279.38   0.000     6.933684     7.03166\n",
            "  1 1 2 2 2  |    14.0205   .0250708   559.24   0.000     13.97136    14.06964\n",
            "  1 2 1 1 1  |   2.018157   .0249958    80.74   0.000     1.969166    2.067148\n",
            "  1 2 1 1 2  |   8.997782    .025279   355.94   0.000     8.948235    9.047329\n",
            "  1 2 1 2 1  |    5.98607   .0253582   236.06   0.000     5.936369    6.035772\n",
            "  1 2 1 2 2  |   13.00136   .0252238   515.44   0.000     12.95192     13.0508\n",
            "  1 2 2 1 1  |   5.012271   .0251415   199.36   0.000     4.962994    5.061548\n",
            "  1 2 2 1 2  |   12.00495   .0253772   473.06   0.000     11.95522    12.05469\n",
            "  1 2 2 2 1  |   9.032847   .0251535   359.11   0.000     8.983547    9.082148\n",
            "  1 2 2 2 2  |   15.99361   .0253372   631.23   0.000     15.94395    16.04328\n",
            "  2 1 1 1 1  |    2.97599   .0252667   117.78   0.000     2.926468    3.025512\n",
            "  2 1 1 1 2  |   10.01659   .0251634   398.06   0.000     9.967273    10.06591\n",
            "  2 1 1 2 1  |   6.991978   .0253184   276.16   0.000     6.942354    7.041602\n",
            "  2 1 1 2 2  |   13.98882   .0251316   556.62   0.000     13.93956    14.03808\n",
            "  2 1 2 1 1  |   5.953517   .0252279   235.99   0.000     5.904071    6.002963\n",
            "  2 1 2 1 2  |   13.00714   .0252016   516.12   0.000     12.95775    13.05654\n",
            "  2 1 2 2 1  |   9.981458    .025308   394.40   0.000     9.931854    10.03106\n",
            "  2 1 2 2 2  |   17.00289    .025236   673.76   0.000     16.95343    17.05236\n",
            "  2 2 1 1 1  |   5.018673   .0249882   200.84   0.000     4.969696    5.067649\n",
            "  2 2 1 1 2  |   11.99972   .0252319   475.58   0.000     11.95026    12.04917\n",
            "  2 2 1 2 1  |   8.992352   .0251955   356.90   0.000     8.942969    9.041735\n",
            "  2 2 1 2 2  |   16.00703   .0251001   637.73   0.000     15.95783    16.05622\n",
            "  2 2 2 1 1  |   7.995377   .0252605   316.52   0.000     7.945866    8.044887\n",
            "  2 2 2 1 2  |   14.99117   .0252299   594.18   0.000     14.94172    15.04062\n",
            "  2 2 2 2 1  |   11.96453   .0252401   474.03   0.000     11.91506      12.014\n",
            "  2 2 2 2 2  |   19.00154   .0251396   755.84   0.000     18.95226    19.05081\n",
            "             |\n",
            "       _cons |   19.99775   .0178145  1122.56   0.000     19.96283    20.03267\n",
            "------------------------------------------------------------------------------\n",
            "\n",
            ".  \n",
            ". \n"
          ]
        }
      ]
    }
  ]
}